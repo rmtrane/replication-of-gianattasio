{
  "cells": [
    {
      "cell_type": "raw",
      "metadata": {},
      "source": [
        "---\n",
        "title: \"ADAMS Data Documentation\"\n",
        "author: \"Ralph Møller Trane\"\n",
        "format: \n",
        "  html:\n",
        "    self-contained: true\n",
        "---"
      ],
      "id": "98fe3df5"
    },
    {
      "cell_type": "markdown",
      "metadata": {},
      "source": [
        "## ADAMS data structure\n",
        "\n",
        "The ADAMS data is downloaded as five .zip files: one with tracker data (`adams1trk.zip`), and one for each of the four waves (`adams1a.zip`, `adams1b.zip`, `adams1c.zip`, `adams1d.zip`). To prepare to run the SAS files to reproduce @gianattasioComparisonMethodsAlgorithmic2019 from the [github repo](https://github.com/powerepilab/AD_algorithm_comparison), these need to be unzipped. This reveals more .zip files, one of which is named `adams1Xsas.zip` for wave `X`. Unzip these. \n",
        "\n",
        "## RAND Data\n",
        "\n",
        "These scripts use an older version of the RAND data files, the so-called RAND Version P. This can be found under archived files [here](https://hrsdata.isr.umich.edu/data-products/rand-hrs-archived-data-products). \n",
        "\n",
        "Need to create the formats using something along the lines of this:\n",
        "\n",
        "\n",
        "```{sas}\n",
        "#| eval: false\n",
        "\n",
        "libname library \"/path/to/sasfmts.sas7bdat\";\n",
        "proc format library=library cntlin=linbrary.sasfmts;\n",
        "run;\n",
        "```\n",
        "\n",
        "\n",
        "\n",
        "## HRS Data\n",
        "\n",
        "Need to run .SAS files to create the data sets needed.\n"
      ],
      "id": "c333db5f"
    }
  ],
  "metadata": {
    "kernelspec": {
      "display_name": "Python 3",
      "language": "python",
      "name": "python3"
    }
  },
  "nbformat": 4,
  "nbformat_minor": 5
}